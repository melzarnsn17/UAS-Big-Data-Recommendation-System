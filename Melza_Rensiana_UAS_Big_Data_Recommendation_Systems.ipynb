{
  "nbformat": 4,
  "nbformat_minor": 0,
  "metadata": {
    "colab": {
      "provenance": []
    },
    "kernelspec": {
      "name": "python3",
      "display_name": "Python 3"
    },
    "language_info": {
      "name": "python"
    }
  },
  "cells": [
    {
      "cell_type": "markdown",
      "source": [
        "**Recommendation Systems in Bioinformatics: A Comprehensive Tutorial**\n",
        "--\n",
        "Melza Rensiana\n",
        "--\n",
        "\n",
        "NPM :2306174980\n",
        "--\n"
      ],
      "metadata": {
        "id": "3CdQLweKoPEP"
      }
    },
    {
      "cell_type": "markdown",
      "source": [
        "# Content-Based Filtering"
      ],
      "metadata": {
        "id": "mhGWTrckOZ7I"
      }
    },
    {
      "cell_type": "markdown",
      "source": [
        "##**Initial Setup**"
      ],
      "metadata": {
        "id": "VL9p8-483GdB"
      }
    },
    {
      "cell_type": "code",
      "source": [
        "import pandas as pd\n",
        "from sklearn.feature_extraction.text import TfidfVectorizer\n",
        "from sklearn.metrics.pairwise import linear_kernel"
      ],
      "metadata": {
        "id": "h_Gvn2Qf4HGS"
      },
      "execution_count": 22,
      "outputs": []
    },
    {
      "cell_type": "markdown",
      "source": [
        "##**Data Preparation**"
      ],
      "metadata": {
        "id": "utZmuws93KZn"
      }
    },
    {
      "cell_type": "code",
      "source": [
        "# Sample fabricated data for genes and their descriptions\n",
        "genes_data = {\n",
        "    'Gene': ['Gene1', 'Gene2', 'Gene3'],\n",
        "    'Description': [\n",
        "        'This gene is related to function X and protein Y',\n",
        "        'Functionality of this gene is associated with process A',\n",
        "        'Protein B interacts with this gene, leading to process C'\n",
        "    ]\n",
        "}\n",
        "\n",
        "# Creating a DataFrame\n",
        "genes_df = pd.DataFrame(genes_data)"
      ],
      "metadata": {
        "id": "fY5GL6Cs4KjY"
      },
      "execution_count": 23,
      "outputs": []
    },
    {
      "cell_type": "markdown",
      "source": [
        "##**Text Preprocessing**"
      ],
      "metadata": {
        "id": "k_1TgWZP3Oz4"
      }
    },
    {
      "cell_type": "code",
      "source": [
        "genes_df['Clean_Description'] = genes_df['Description'].str.lower()  # Convert to lowercase"
      ],
      "metadata": {
        "id": "fUecHJ-u4RkC"
      },
      "execution_count": 24,
      "outputs": []
    },
    {
      "cell_type": "markdown",
      "source": [
        "##**Feature Extraction**"
      ],
      "metadata": {
        "id": "qmrPMKYS3rYs"
      }
    },
    {
      "cell_type": "code",
      "source": [
        "tfidf = TfidfVectorizer(stop_words='english')\n",
        "tfidf_matrix = tfidf.fit_transform(genes_df['Clean_Description'])"
      ],
      "metadata": {
        "id": "tXsugKGo4VWv"
      },
      "execution_count": 25,
      "outputs": []
    },
    {
      "cell_type": "markdown",
      "source": [
        "##**Building Content-Based Model**"
      ],
      "metadata": {
        "id": "63zsrGNW3w4O"
      }
    },
    {
      "cell_type": "code",
      "source": [
        "cosine_sim = linear_kernel(tfidf_matrix, tfidf_matrix)"
      ],
      "metadata": {
        "id": "O3O-POAX4Xge"
      },
      "execution_count": 26,
      "outputs": []
    },
    {
      "cell_type": "markdown",
      "source": [
        "##**Recommendation for Users**"
      ],
      "metadata": {
        "id": "BNv2fmsv38oS"
      }
    },
    {
      "cell_type": "code",
      "source": [
        "gene_index = 0  # Index of the gene to recommend for a specific user\n",
        "similar_genes = list(enumerate(cosine_sim[gene_index]))\n",
        "\n",
        "# Sort genes based on similarity scores\n",
        "similar_genes = sorted(similar_genes, key=lambda x: x[1], reverse=True)"
      ],
      "metadata": {
        "id": "nCvicS9i4aeU"
      },
      "execution_count": 27,
      "outputs": []
    },
    {
      "cell_type": "markdown",
      "source": [
        "##**Display Recommendations**"
      ],
      "metadata": {
        "id": "ulRi5Sk53_3E"
      }
    },
    {
      "cell_type": "code",
      "source": [
        "print(\"Recommended Genes for the Reference Gene:\")\n",
        "for gene in similar_genes[1:]:  # Exclude itself (similarity score of 1)\n",
        "    print(genes_df.iloc[gene[0]]['Gene'])"
      ],
      "metadata": {
        "colab": {
          "base_uri": "https://localhost:8080/"
        },
        "id": "ecKxfKEN4dSx",
        "outputId": "256618e6-3569-4092-f250-11709e00f5c1"
      },
      "execution_count": 28,
      "outputs": [
        {
          "output_type": "stream",
          "name": "stdout",
          "text": [
            "Recommended Genes for the Reference Gene:\n",
            "Gene3\n",
            "Gene2\n"
          ]
        }
      ]
    },
    {
      "cell_type": "markdown",
      "source": [
        "#Collaborative Filtering"
      ],
      "metadata": {
        "id": "X97Q7maTMHB2"
      }
    },
    {
      "cell_type": "code",
      "source": [
        "!pip install scikit-surprise"
      ],
      "metadata": {
        "colab": {
          "base_uri": "https://localhost:8080/"
        },
        "id": "-YjGW63AwqoC",
        "outputId": "23cdd955-24f1-41a7-aebd-a7ec273cfaab"
      },
      "execution_count": 29,
      "outputs": [
        {
          "output_type": "stream",
          "name": "stdout",
          "text": [
            "Requirement already satisfied: scikit-surprise in /usr/local/lib/python3.10/dist-packages (1.1.3)\n",
            "Requirement already satisfied: joblib>=1.0.0 in /usr/local/lib/python3.10/dist-packages (from scikit-surprise) (1.3.2)\n",
            "Requirement already satisfied: numpy>=1.17.3 in /usr/local/lib/python3.10/dist-packages (from scikit-surprise) (1.23.5)\n",
            "Requirement already satisfied: scipy>=1.3.2 in /usr/local/lib/python3.10/dist-packages (from scikit-surprise) (1.11.4)\n"
          ]
        }
      ]
    },
    {
      "cell_type": "markdown",
      "source": [
        "##**Make a sysnthetic dataset**"
      ],
      "metadata": {
        "id": "UcclVsrvzZqO"
      }
    },
    {
      "cell_type": "code",
      "source": [
        "import pandas as pd\n",
        "import numpy as np\n",
        "\n",
        "# Creating a synthetic dataset for user-gene interactions\n",
        "# Assuming 100 users, 50 genes, and generating random ratings (0-5) for interactions\n",
        "num_users = 100\n",
        "num_genes = 50\n",
        "\n",
        "users = ['User{}'.format(i) for i in range(1, num_users + 1)]\n",
        "genes = ['Gene{}'.format(i) for i in range(1, num_genes + 1)]\n",
        "\n",
        "# Generating random user-gene interactions (ratings)\n",
        "np.random.seed(42)  # For reproducibility\n",
        "interaction_data = {\n",
        "    'User': np.random.choice(users, size=500),  # Adjust size based on your dataset\n",
        "    'Gene': np.random.choice(genes, size=500),\n",
        "    'Rating': np.random.randint(0, 6, size=500)  # Ratings between 0 and 5\n",
        "}\n",
        "\n",
        "interaction_df = pd.DataFrame(interaction_data)\n",
        "interaction_df.to_csv('interaction_data.csv', index=False)"
      ],
      "metadata": {
        "id": "hzEICdkcwa5S"
      },
      "execution_count": 30,
      "outputs": []
    },
    {
      "cell_type": "markdown",
      "source": [
        "##**Initial Setup**"
      ],
      "metadata": {
        "id": "3whNUZnLzenK"
      }
    },
    {
      "cell_type": "code",
      "source": [
        "import pandas as pd\n",
        "from surprise import Dataset, Reader, SVD\n",
        "from surprise.model_selection import cross_validate"
      ],
      "metadata": {
        "id": "DQNF1VQUzqS7"
      },
      "execution_count": 31,
      "outputs": []
    },
    {
      "cell_type": "markdown",
      "source": [
        "##**Data Preparation**"
      ],
      "metadata": {
        "id": "8dWOx-fEz0n3"
      }
    },
    {
      "cell_type": "code",
      "source": [
        "interaction_data = pd.read_csv('interaction_data.csv')\n",
        "reader = Reader(rating_scale=(0, 5))\n",
        "data = Dataset.load_from_df(interaction_data[['User', 'Gene', 'Rating']], reader)"
      ],
      "metadata": {
        "id": "WFknThkl0HrE"
      },
      "execution_count": 32,
      "outputs": []
    },
    {
      "cell_type": "markdown",
      "source": [
        "##**Building Collaborative Filtering Model**"
      ],
      "metadata": {
        "id": "m714H7aK0KkO"
      }
    },
    {
      "cell_type": "code",
      "source": [
        "model = SVD()\n",
        "results = cross_validate(model, data, measures=['RMSE', 'MAE'], cv=5, verbose=True)"
      ],
      "metadata": {
        "colab": {
          "base_uri": "https://localhost:8080/"
        },
        "id": "RyZfnEFq0ZFU",
        "outputId": "a38bc9d0-f75b-446f-c1cc-204d08ceae35"
      },
      "execution_count": 33,
      "outputs": [
        {
          "output_type": "stream",
          "name": "stdout",
          "text": [
            "Evaluating RMSE, MAE of algorithm SVD on 5 split(s).\n",
            "\n",
            "                  Fold 1  Fold 2  Fold 3  Fold 4  Fold 5  Mean    Std     \n",
            "RMSE (testset)    1.9092  1.7403  1.7287  1.7934  1.7445  1.7832  0.0668  \n",
            "MAE (testset)     1.6587  1.4927  1.4738  1.5629  1.4894  1.5355  0.0688  \n",
            "Fit time          0.01    0.01    0.01    0.01    0.01    0.01    0.00    \n",
            "Test time         0.00    0.00    0.00    0.00    0.00    0.00    0.00    \n"
          ]
        }
      ]
    },
    {
      "cell_type": "markdown",
      "source": [
        "##**Model Training and Prediction**"
      ],
      "metadata": {
        "id": "J5gWBnVE0PEQ"
      }
    },
    {
      "cell_type": "code",
      "source": [
        "trainset = data.build_full_trainset()\n",
        "model.fit(trainset)\n",
        "\n",
        "user_id = 'User1'  # Replace with a specific user ID\n",
        "genes_rated_by_user1 = user1_interactions['Gene'].tolist()  # Genes already rated by User1\n",
        "\n",
        "genes_to_recommend = genes_for_user1[~genes_for_user1.isin(genes_rated_by_user1)]\n",
        "\n",
        "unique_genes_to_recommend = genes_to_recommend.unique()  # Get unique genes for recommendation\n",
        "\n",
        "user_recommendations = [model.predict(user_id, gene).est for gene in unique_genes_to_recommend]"
      ],
      "metadata": {
        "id": "5IbfgSym0b6m"
      },
      "execution_count": 34,
      "outputs": []
    },
    {
      "cell_type": "markdown",
      "source": [
        "##**Display Recommendations**"
      ],
      "metadata": {
        "id": "MnCH3GUa0sNO"
      }
    },
    {
      "cell_type": "code",
      "source": [
        "recommendations_df = pd.DataFrame({'Gene': unique_genes_to_recommend, 'Estimated_Rating': user_recommendations})\n",
        "print(\"Recommended Genes for User:\", user_id)\n",
        "print(recommendations_df.sort_values('Estimated_Rating', ascending=False).head(10))"
      ],
      "metadata": {
        "colab": {
          "base_uri": "https://localhost:8080/"
        },
        "id": "C1KTa0-r0rdt",
        "outputId": "67da6a35-b390-43a8-9ca1-eecf4bc75e22"
      },
      "execution_count": 35,
      "outputs": [
        {
          "output_type": "stream",
          "name": "stdout",
          "text": [
            "Recommended Genes for User: User1\n",
            "      Gene  Estimated_Rating\n",
            "22   Gene2          3.633431\n",
            "6    Gene5          3.580818\n",
            "18  Gene32          3.321793\n",
            "13  Gene33          3.239467\n",
            "41  Gene15          3.200144\n",
            "21  Gene24          3.150444\n",
            "27  Gene43          3.135609\n",
            "30  Gene13          3.124605\n",
            "19  Gene45          3.121596\n",
            "34   Gene7          3.089321\n"
          ]
        }
      ]
    }
  ]
}